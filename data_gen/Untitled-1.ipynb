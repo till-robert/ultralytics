{
 "cells": [
  {
   "cell_type": "code",
   "execution_count": 1,
   "metadata": {},
   "outputs": [],
   "source": [
    "import numpy as np\n",
    "import matplotlib.pyplot as plt\n",
    "from PIL import Image\n",
    "from scipy.ndimage import rotate\n",
    "%matplotlib qt\n",
    "from tqdm import tqdm\n",
    "import psf\n",
    "from matplotlib import colormaps as cmaps\n",
    "from scipy.signal import convolve2d"
   ]
  },
  {
   "cell_type": "code",
   "execution_count": 2,
   "metadata": {},
   "outputs": [],
   "source": [
    "img = Image.open(\"BeadStack_20170403_S1F1_01.tif\")"
   ]
  },
  {
   "cell_type": "code",
   "execution_count": 3,
   "metadata": {},
   "outputs": [],
   "source": [
    "# plt.close(\"all\")\n",
    "arr=[]\n",
    "for i in range(600,1001):\n",
    "    img.seek(i)\n",
    "    arr.append(np.array(img))"
   ]
  },
  {
   "cell_type": "code",
   "execution_count": 4,
   "metadata": {},
   "outputs": [],
   "source": [
    "for i, arr in enumerate(arr):\n",
    "    plt.clf()\n",
    "    plt.title(i)\n",
    "    plt.imshow(arr,cmap=\"gray\",vmin=20000,vmax=23000)\n",
    "    plt.colorbar()\n",
    "    plt.pause(1/25)"
   ]
  },
  {
   "cell_type": "code",
   "execution_count": 5,
   "metadata": {},
   "outputs": [
    {
     "data": {
      "text/plain": [
       "array([20187, 19802, 19689, 20133, 20328, 19661, 19792, 19644, 19415,\n",
       "       19869, 20010, 19874, 19844, 19676, 20379, 19826, 20117, 19861,\n",
       "       20162, 19845, 20020, 19929, 20073, 19627, 20167, 20242, 19729,\n",
       "       19765, 19789, 19857, 20361, 20327, 19694, 20226, 19708, 19427,\n",
       "       19507, 19906, 20492, 19817, 19690, 19922, 19971, 19939, 19723,\n",
       "       19916, 19517, 20081, 19709, 20046, 19765, 19541, 20090, 20181,\n",
       "       19600, 20134, 20041, 19846, 19508, 20203, 19970, 19950, 20010,\n",
       "       20276, 20089, 20129, 19975, 19700, 19898, 19722, 19608, 19999,\n",
       "       19733, 20029, 20041, 19906, 20094, 19743, 19737, 20126, 19865,\n",
       "       20292, 20279, 20203, 20245, 20345, 20098, 19900, 20091, 19729,\n",
       "       20001, 19741, 19781, 19834, 19779, 20035, 19827, 20078, 19929,\n",
       "       20023, 20045, 20014, 20098, 20057, 20256, 20215, 19648, 20389,\n",
       "       19731, 19852, 20410, 20000, 20143, 20098, 19651, 20172, 20078,\n",
       "       19895, 19823, 20045, 20188, 19868, 19695, 19734, 20379, 20101,\n",
       "       20187, 19580, 20445, 19735, 20062, 20238, 20104, 20045, 19607,\n",
       "       19859, 20248, 20134, 20120, 20257, 20105, 19435, 19799, 19803,\n",
       "       19798, 19896, 20456, 20255, 20255, 20010, 19937, 20157, 20115,\n",
       "       20008, 19819, 20186, 19961, 20076, 19996, 19777, 19881, 19899,\n",
       "       19769, 20158, 20054, 20267, 20041, 20051, 19574, 20101, 19900,\n",
       "       19718, 19827, 19935, 20244, 19909, 20133, 19917, 20361, 19760,\n",
       "       19830, 19760, 20044, 20020, 20167, 20196, 19905, 20309, 19502,\n",
       "       20080, 19947, 19941, 19975, 19664, 19776, 19908, 19719, 19703,\n",
       "       20433, 19656, 20062, 20040, 20414, 19783, 20111, 20215, 20149,\n",
       "       19887, 19733, 19367, 19846, 19912, 19792, 20116, 19642, 19933,\n",
       "       19905, 19766, 19634, 20411, 19779, 20095, 19900, 19887, 19644,\n",
       "       20192, 19819, 20179, 20203, 19895, 19949, 20104, 20164, 19778,\n",
       "       19975, 19876, 19721, 19730, 19711, 20321, 20290, 20021, 20213,\n",
       "       19805, 19859, 19834, 20133, 20154, 20029, 20133, 19923, 19850,\n",
       "       19922, 20174, 20379, 20105, 19718, 20169, 20000, 20174, 19975,\n",
       "       20364, 19758, 19975, 20077, 20129, 20115, 19698, 19852, 20221,\n",
       "       20106, 19822, 19644, 19940, 20196, 20170, 20169, 20079, 20244,\n",
       "       20010, 19818, 19963, 19777, 20133, 19912, 19940, 20097, 19985,\n",
       "       19885, 20062, 19863, 19765, 20045, 19806, 20010, 20260, 20241,\n",
       "       20484, 19921, 20009, 19810, 19889, 20358, 20010, 19662, 19848,\n",
       "       19548, 20005, 19953, 19826, 19765, 20293, 19659, 19962, 20088,\n",
       "       20368, 19862, 19644, 20592, 20393, 20228, 19967, 20178, 19863,\n",
       "       20045, 19983, 19878, 19909, 20050, 19402, 19801, 19814, 20133,\n",
       "       19963, 20111, 19930, 19590, 19849, 19780, 19809, 19825, 19996,\n",
       "       20168, 19846, 20419, 20263, 19872, 19873, 20128, 19959, 20106,\n",
       "       19746, 20250, 19853, 19762, 20398, 20224, 19848, 19889, 20063,\n",
       "       19852, 19944, 20136, 19644, 20009, 20337, 20000, 19903, 20418,\n",
       "       20369, 19875, 19838, 19976, 20126, 20184, 19887, 19853, 20221,\n",
       "       19997, 19920, 19961, 19887, 19679, 20184, 20107, 20115, 20168,\n",
       "       20154, 19820, 20485, 19912, 20274, 20453, 20037, 19917, 20029,\n",
       "       19921, 20048, 20256, 20010, 19780, 20133, 20202, 19833, 19946,\n",
       "       20168, 20264, 19791, 20034, 19852, 19489, 19804, 20197, 20199,\n",
       "       20412, 20178, 20207, 19887, 20192, 20346, 20063, 19859, 19888,\n",
       "       19471, 20327, 20276, 20414, 20232, 20203, 19730, 19887, 19760,\n",
       "       20490, 20266, 20052, 20037, 19908, 20233, 19842, 19922, 20098,\n",
       "       20132, 20079, 19886, 20133, 20029, 19995, 20357, 19697, 20050,\n",
       "       20140, 20168, 20280, 20347, 20216, 20174, 20252, 20020, 20023,\n",
       "       20284, 20014, 19869, 19965, 19844, 20024, 20316, 20267, 19888,\n",
       "       20171, 19939, 19966, 19678, 20196, 20028, 20134, 20056, 19851,\n",
       "       20010, 20068, 20271, 19862, 20132, 19926, 19975, 19957, 20012,\n",
       "       20133, 20379, 20266, 19897, 20274, 19978, 20164, 20199, 19824,\n",
       "       19897, 19894, 19963, 20020, 20020, 19860, 20100, 20145, 19921,\n",
       "       20264, 19951, 19801, 20244, 20075, 19764, 20385, 19775],\n",
       "      dtype=uint16)"
      ]
     },
     "execution_count": 5,
     "metadata": {},
     "output_type": "execute_result"
    }
   ],
   "source": [
    "arr[0]"
   ]
  },
  {
   "cell_type": "code",
   "execution_count": 6,
   "metadata": {},
   "outputs": [
    {
     "name": "stderr",
     "output_type": "stream",
     "text": [
      "  0%|          | 0/512 [00:00<?, ?it/s]\n"
     ]
    },
    {
     "ename": "ValueError",
     "evalue": "input array should be at least 2D",
     "output_type": "error",
     "traceback": [
      "\u001b[0;31m---------------------------------------------------------------------------\u001b[0m",
      "\u001b[0;31mValueError\u001b[0m                                Traceback (most recent call last)",
      "Cell \u001b[0;32mIn[6], line 5\u001b[0m\n\u001b[1;32m      3\u001b[0m cross_sections_arr \u001b[38;5;241m=\u001b[39m []\n\u001b[1;32m      4\u001b[0m \u001b[38;5;28;01mfor\u001b[39;00m a \u001b[38;5;129;01min\u001b[39;00m tqdm(arr):\n\u001b[0;32m----> 5\u001b[0m     cross_sections \u001b[38;5;241m=\u001b[39m [rotate(a, deg,reshape\u001b[38;5;241m=\u001b[39m\u001b[38;5;28;01mFalse\u001b[39;00m)[mask]\u001b[38;5;241m.\u001b[39mreshape(\u001b[38;5;241m3\u001b[39m,\u001b[38;5;241m-\u001b[39m\u001b[38;5;241m1\u001b[39m)\u001b[38;5;241m.\u001b[39mmean(axis\u001b[38;5;241m=\u001b[39m\u001b[38;5;241m0\u001b[39m) \u001b[38;5;28;01mfor\u001b[39;00m deg \u001b[38;5;129;01min\u001b[39;00m np\u001b[38;5;241m.\u001b[39mlinspace(\u001b[38;5;241m0\u001b[39m,\u001b[38;5;241m360\u001b[39m,\u001b[38;5;241m6\u001b[39m)]\n\u001b[1;32m      6\u001b[0m     cross_sections \u001b[38;5;241m=\u001b[39m np\u001b[38;5;241m.\u001b[39marray(cross_sections)\n\u001b[1;32m      7\u001b[0m     cross_sections_arr\u001b[38;5;241m.\u001b[39mappend(np\u001b[38;5;241m.\u001b[39mmean(cross_sections,axis\u001b[38;5;241m=\u001b[39m\u001b[38;5;241m0\u001b[39m))\n",
      "File \u001b[0;32m/opt/homebrew/anaconda3/lib/python3.12/site-packages/scipy/ndimage/_interpolation.py:944\u001b[0m, in \u001b[0;36mrotate\u001b[0;34m(input, angle, axes, reshape, output, order, mode, cval, prefilter)\u001b[0m\n\u001b[1;32m    941\u001b[0m ndim \u001b[38;5;241m=\u001b[39m input_arr\u001b[38;5;241m.\u001b[39mndim\n\u001b[1;32m    943\u001b[0m \u001b[38;5;28;01mif\u001b[39;00m ndim \u001b[38;5;241m<\u001b[39m \u001b[38;5;241m2\u001b[39m:\n\u001b[0;32m--> 944\u001b[0m     \u001b[38;5;28;01mraise\u001b[39;00m \u001b[38;5;167;01mValueError\u001b[39;00m(\u001b[38;5;124m'\u001b[39m\u001b[38;5;124minput array should be at least 2D\u001b[39m\u001b[38;5;124m'\u001b[39m)\n\u001b[1;32m    946\u001b[0m axes \u001b[38;5;241m=\u001b[39m \u001b[38;5;28mlist\u001b[39m(axes)\n\u001b[1;32m    948\u001b[0m \u001b[38;5;28;01mif\u001b[39;00m \u001b[38;5;28mlen\u001b[39m(axes) \u001b[38;5;241m!=\u001b[39m \u001b[38;5;241m2\u001b[39m:\n",
      "\u001b[0;31mValueError\u001b[0m: input array should be at least 2D"
     ]
    }
   ],
   "source": [
    "mask = np.zeros_like(arr[0],dtype=bool)\n",
    "mask[len(mask)//2-2:len(mask)//2+1] = np.ones_like(mask[0],dtype=bool)\n",
    "cross_sections_arr = []\n",
    "for a in tqdm(arr):\n",
    "    cross_sections = [rotate(a, deg,reshape=False)[mask].reshape(3,-1).mean(axis=0) for deg in np.linspace(0,360,6)]\n",
    "    cross_sections = np.array(cross_sections)\n",
    "    cross_sections_arr.append(np.mean(cross_sections,axis=0))\n",
    "cross_sections_arr = np.array(cross_sections_arr)\n",
    "\n"
   ]
  },
  {
   "cell_type": "code",
   "execution_count": 7,
   "metadata": {},
   "outputs": [
    {
     "ename": "TypeError",
     "evalue": "Invalid shape (0,) for image data",
     "output_type": "error",
     "traceback": [
      "\u001b[0;31m---------------------------------------------------------------------------\u001b[0m",
      "\u001b[0;31mTypeError\u001b[0m                                 Traceback (most recent call last)",
      "Cell \u001b[0;32mIn[7], line 3\u001b[0m\n\u001b[1;32m      1\u001b[0m plt\u001b[38;5;241m.\u001b[39mfigure()\n\u001b[1;32m      2\u001b[0m \u001b[38;5;66;03m# plt.axis(\"off\")\u001b[39;00m\n\u001b[0;32m----> 3\u001b[0m plt\u001b[38;5;241m.\u001b[39mimshow(cross_sections_arr,cmap\u001b[38;5;241m=\u001b[39mcmaps\u001b[38;5;241m.\u001b[39mget_cmap(\u001b[38;5;124m'\u001b[39m\u001b[38;5;124mcubehelix\u001b[39m\u001b[38;5;124m'\u001b[39m),aspect\u001b[38;5;241m=\u001b[39m\u001b[38;5;241m0.5\u001b[39m,vmin\u001b[38;5;241m=\u001b[39m\u001b[38;5;241m1.7e4\u001b[39m)\n\u001b[1;32m      4\u001b[0m plt\u001b[38;5;241m.\u001b[39mcolorbar()\n\u001b[1;32m      5\u001b[0m \u001b[38;5;66;03m# plt.savefig(\"test_stack.png\")\u001b[39;00m\n",
      "File \u001b[0;32m/opt/homebrew/anaconda3/lib/python3.12/site-packages/matplotlib/pyplot.py:3562\u001b[0m, in \u001b[0;36mimshow\u001b[0;34m(X, cmap, norm, aspect, interpolation, alpha, vmin, vmax, origin, extent, interpolation_stage, filternorm, filterrad, resample, url, data, **kwargs)\u001b[0m\n\u001b[1;32m   3541\u001b[0m \u001b[38;5;129m@_copy_docstring_and_deprecators\u001b[39m(Axes\u001b[38;5;241m.\u001b[39mimshow)\n\u001b[1;32m   3542\u001b[0m \u001b[38;5;28;01mdef\u001b[39;00m \u001b[38;5;21mimshow\u001b[39m(\n\u001b[1;32m   3543\u001b[0m     X: ArrayLike \u001b[38;5;241m|\u001b[39m PIL\u001b[38;5;241m.\u001b[39mImage\u001b[38;5;241m.\u001b[39mImage,\n\u001b[0;32m   (...)\u001b[0m\n\u001b[1;32m   3560\u001b[0m     \u001b[38;5;241m*\u001b[39m\u001b[38;5;241m*\u001b[39mkwargs,\n\u001b[1;32m   3561\u001b[0m ) \u001b[38;5;241m-\u001b[39m\u001b[38;5;241m>\u001b[39m AxesImage:\n\u001b[0;32m-> 3562\u001b[0m     __ret \u001b[38;5;241m=\u001b[39m gca()\u001b[38;5;241m.\u001b[39mimshow(\n\u001b[1;32m   3563\u001b[0m         X,\n\u001b[1;32m   3564\u001b[0m         cmap\u001b[38;5;241m=\u001b[39mcmap,\n\u001b[1;32m   3565\u001b[0m         norm\u001b[38;5;241m=\u001b[39mnorm,\n\u001b[1;32m   3566\u001b[0m         aspect\u001b[38;5;241m=\u001b[39maspect,\n\u001b[1;32m   3567\u001b[0m         interpolation\u001b[38;5;241m=\u001b[39minterpolation,\n\u001b[1;32m   3568\u001b[0m         alpha\u001b[38;5;241m=\u001b[39malpha,\n\u001b[1;32m   3569\u001b[0m         vmin\u001b[38;5;241m=\u001b[39mvmin,\n\u001b[1;32m   3570\u001b[0m         vmax\u001b[38;5;241m=\u001b[39mvmax,\n\u001b[1;32m   3571\u001b[0m         origin\u001b[38;5;241m=\u001b[39morigin,\n\u001b[1;32m   3572\u001b[0m         extent\u001b[38;5;241m=\u001b[39mextent,\n\u001b[1;32m   3573\u001b[0m         interpolation_stage\u001b[38;5;241m=\u001b[39minterpolation_stage,\n\u001b[1;32m   3574\u001b[0m         filternorm\u001b[38;5;241m=\u001b[39mfilternorm,\n\u001b[1;32m   3575\u001b[0m         filterrad\u001b[38;5;241m=\u001b[39mfilterrad,\n\u001b[1;32m   3576\u001b[0m         resample\u001b[38;5;241m=\u001b[39mresample,\n\u001b[1;32m   3577\u001b[0m         url\u001b[38;5;241m=\u001b[39murl,\n\u001b[1;32m   3578\u001b[0m         \u001b[38;5;241m*\u001b[39m\u001b[38;5;241m*\u001b[39m({\u001b[38;5;124m\"\u001b[39m\u001b[38;5;124mdata\u001b[39m\u001b[38;5;124m\"\u001b[39m: data} \u001b[38;5;28;01mif\u001b[39;00m data \u001b[38;5;129;01mis\u001b[39;00m \u001b[38;5;129;01mnot\u001b[39;00m \u001b[38;5;28;01mNone\u001b[39;00m \u001b[38;5;28;01melse\u001b[39;00m {}),\n\u001b[1;32m   3579\u001b[0m         \u001b[38;5;241m*\u001b[39m\u001b[38;5;241m*\u001b[39mkwargs,\n\u001b[1;32m   3580\u001b[0m     )\n\u001b[1;32m   3581\u001b[0m     sci(__ret)\n\u001b[1;32m   3582\u001b[0m     \u001b[38;5;28;01mreturn\u001b[39;00m __ret\n",
      "File \u001b[0;32m/opt/homebrew/anaconda3/lib/python3.12/site-packages/matplotlib/__init__.py:1473\u001b[0m, in \u001b[0;36m_preprocess_data.<locals>.inner\u001b[0;34m(ax, data, *args, **kwargs)\u001b[0m\n\u001b[1;32m   1470\u001b[0m \u001b[38;5;129m@functools\u001b[39m\u001b[38;5;241m.\u001b[39mwraps(func)\n\u001b[1;32m   1471\u001b[0m \u001b[38;5;28;01mdef\u001b[39;00m \u001b[38;5;21minner\u001b[39m(ax, \u001b[38;5;241m*\u001b[39margs, data\u001b[38;5;241m=\u001b[39m\u001b[38;5;28;01mNone\u001b[39;00m, \u001b[38;5;241m*\u001b[39m\u001b[38;5;241m*\u001b[39mkwargs):\n\u001b[1;32m   1472\u001b[0m     \u001b[38;5;28;01mif\u001b[39;00m data \u001b[38;5;129;01mis\u001b[39;00m \u001b[38;5;28;01mNone\u001b[39;00m:\n\u001b[0;32m-> 1473\u001b[0m         \u001b[38;5;28;01mreturn\u001b[39;00m func(\n\u001b[1;32m   1474\u001b[0m             ax,\n\u001b[1;32m   1475\u001b[0m             \u001b[38;5;241m*\u001b[39m\u001b[38;5;28mmap\u001b[39m(sanitize_sequence, args),\n\u001b[1;32m   1476\u001b[0m             \u001b[38;5;241m*\u001b[39m\u001b[38;5;241m*\u001b[39m{k: sanitize_sequence(v) \u001b[38;5;28;01mfor\u001b[39;00m k, v \u001b[38;5;129;01min\u001b[39;00m kwargs\u001b[38;5;241m.\u001b[39mitems()})\n\u001b[1;32m   1478\u001b[0m     bound \u001b[38;5;241m=\u001b[39m new_sig\u001b[38;5;241m.\u001b[39mbind(ax, \u001b[38;5;241m*\u001b[39margs, \u001b[38;5;241m*\u001b[39m\u001b[38;5;241m*\u001b[39mkwargs)\n\u001b[1;32m   1479\u001b[0m     auto_label \u001b[38;5;241m=\u001b[39m (bound\u001b[38;5;241m.\u001b[39marguments\u001b[38;5;241m.\u001b[39mget(label_namer)\n\u001b[1;32m   1480\u001b[0m                   \u001b[38;5;129;01mor\u001b[39;00m bound\u001b[38;5;241m.\u001b[39mkwargs\u001b[38;5;241m.\u001b[39mget(label_namer))\n",
      "File \u001b[0;32m/opt/homebrew/anaconda3/lib/python3.12/site-packages/matplotlib/axes/_axes.py:5895\u001b[0m, in \u001b[0;36mAxes.imshow\u001b[0;34m(self, X, cmap, norm, aspect, interpolation, alpha, vmin, vmax, origin, extent, interpolation_stage, filternorm, filterrad, resample, url, **kwargs)\u001b[0m\n\u001b[1;32m   5892\u001b[0m \u001b[38;5;28;01mif\u001b[39;00m aspect \u001b[38;5;129;01mis\u001b[39;00m \u001b[38;5;129;01mnot\u001b[39;00m \u001b[38;5;28;01mNone\u001b[39;00m:\n\u001b[1;32m   5893\u001b[0m     \u001b[38;5;28mself\u001b[39m\u001b[38;5;241m.\u001b[39mset_aspect(aspect)\n\u001b[0;32m-> 5895\u001b[0m im\u001b[38;5;241m.\u001b[39mset_data(X)\n\u001b[1;32m   5896\u001b[0m im\u001b[38;5;241m.\u001b[39mset_alpha(alpha)\n\u001b[1;32m   5897\u001b[0m \u001b[38;5;28;01mif\u001b[39;00m im\u001b[38;5;241m.\u001b[39mget_clip_path() \u001b[38;5;129;01mis\u001b[39;00m \u001b[38;5;28;01mNone\u001b[39;00m:\n\u001b[1;32m   5898\u001b[0m     \u001b[38;5;66;03m# image does not already have clipping set, clip to Axes patch\u001b[39;00m\n",
      "File \u001b[0;32m/opt/homebrew/anaconda3/lib/python3.12/site-packages/matplotlib/image.py:729\u001b[0m, in \u001b[0;36m_ImageBase.set_data\u001b[0;34m(self, A)\u001b[0m\n\u001b[1;32m    727\u001b[0m \u001b[38;5;28;01mif\u001b[39;00m \u001b[38;5;28misinstance\u001b[39m(A, PIL\u001b[38;5;241m.\u001b[39mImage\u001b[38;5;241m.\u001b[39mImage):\n\u001b[1;32m    728\u001b[0m     A \u001b[38;5;241m=\u001b[39m pil_to_array(A)  \u001b[38;5;66;03m# Needed e.g. to apply png palette.\u001b[39;00m\n\u001b[0;32m--> 729\u001b[0m \u001b[38;5;28mself\u001b[39m\u001b[38;5;241m.\u001b[39m_A \u001b[38;5;241m=\u001b[39m \u001b[38;5;28mself\u001b[39m\u001b[38;5;241m.\u001b[39m_normalize_image_array(A)\n\u001b[1;32m    730\u001b[0m \u001b[38;5;28mself\u001b[39m\u001b[38;5;241m.\u001b[39m_imcache \u001b[38;5;241m=\u001b[39m \u001b[38;5;28;01mNone\u001b[39;00m\n\u001b[1;32m    731\u001b[0m \u001b[38;5;28mself\u001b[39m\u001b[38;5;241m.\u001b[39mstale \u001b[38;5;241m=\u001b[39m \u001b[38;5;28;01mTrue\u001b[39;00m\n",
      "File \u001b[0;32m/opt/homebrew/anaconda3/lib/python3.12/site-packages/matplotlib/image.py:697\u001b[0m, in \u001b[0;36m_ImageBase._normalize_image_array\u001b[0;34m(A)\u001b[0m\n\u001b[1;32m    695\u001b[0m     A \u001b[38;5;241m=\u001b[39m A\u001b[38;5;241m.\u001b[39msqueeze(\u001b[38;5;241m-\u001b[39m\u001b[38;5;241m1\u001b[39m)  \u001b[38;5;66;03m# If just (M, N, 1), assume scalar and apply colormap.\u001b[39;00m\n\u001b[1;32m    696\u001b[0m \u001b[38;5;28;01mif\u001b[39;00m \u001b[38;5;129;01mnot\u001b[39;00m (A\u001b[38;5;241m.\u001b[39mndim \u001b[38;5;241m==\u001b[39m \u001b[38;5;241m2\u001b[39m \u001b[38;5;129;01mor\u001b[39;00m A\u001b[38;5;241m.\u001b[39mndim \u001b[38;5;241m==\u001b[39m \u001b[38;5;241m3\u001b[39m \u001b[38;5;129;01mand\u001b[39;00m A\u001b[38;5;241m.\u001b[39mshape[\u001b[38;5;241m-\u001b[39m\u001b[38;5;241m1\u001b[39m] \u001b[38;5;129;01min\u001b[39;00m [\u001b[38;5;241m3\u001b[39m, \u001b[38;5;241m4\u001b[39m]):\n\u001b[0;32m--> 697\u001b[0m     \u001b[38;5;28;01mraise\u001b[39;00m \u001b[38;5;167;01mTypeError\u001b[39;00m(\u001b[38;5;124mf\u001b[39m\u001b[38;5;124m\"\u001b[39m\u001b[38;5;124mInvalid shape \u001b[39m\u001b[38;5;132;01m{\u001b[39;00mA\u001b[38;5;241m.\u001b[39mshape\u001b[38;5;132;01m}\u001b[39;00m\u001b[38;5;124m for image data\u001b[39m\u001b[38;5;124m\"\u001b[39m)\n\u001b[1;32m    698\u001b[0m \u001b[38;5;28;01mif\u001b[39;00m A\u001b[38;5;241m.\u001b[39mndim \u001b[38;5;241m==\u001b[39m \u001b[38;5;241m3\u001b[39m:\n\u001b[1;32m    699\u001b[0m     \u001b[38;5;66;03m# If the input data has values outside the valid range (after\u001b[39;00m\n\u001b[1;32m    700\u001b[0m     \u001b[38;5;66;03m# normalisation), we issue a warning and then clip X to the bounds\u001b[39;00m\n\u001b[1;32m    701\u001b[0m     \u001b[38;5;66;03m# - otherwise casting wraps extreme values, hiding outliers and\u001b[39;00m\n\u001b[1;32m    702\u001b[0m     \u001b[38;5;66;03m# making reliable interpretation impossible.\u001b[39;00m\n\u001b[1;32m    703\u001b[0m     high \u001b[38;5;241m=\u001b[39m \u001b[38;5;241m255\u001b[39m \u001b[38;5;28;01mif\u001b[39;00m np\u001b[38;5;241m.\u001b[39missubdtype(A\u001b[38;5;241m.\u001b[39mdtype, np\u001b[38;5;241m.\u001b[39minteger) \u001b[38;5;28;01melse\u001b[39;00m \u001b[38;5;241m1\u001b[39m\n",
      "\u001b[0;31mTypeError\u001b[0m: Invalid shape (0,) for image data"
     ]
    }
   ],
   "source": [
    "plt.figure()\n",
    "# plt.axis(\"off\")\n",
    "plt.imshow(cross_sections_arr,cmap=cmaps.get_cmap('cubehelix'),aspect=0.5,vmin=1.7e4)\n",
    "plt.colorbar()\n",
    "# plt.savefig(\"test_stack.png\")\n",
    "plt.show()"
   ]
  },
  {
   "cell_type": "code",
   "execution_count": 8,
   "metadata": {},
   "outputs": [
    {
     "name": "stdout",
     "output_type": "stream",
     "text": [
      "960.5 900\n",
      "950.5 900\n",
      "942.5 900\n",
      "936.5 900\n",
      "932.5 900\n",
      "930.5 900\n",
      "930.5 900\n",
      "932.5 900\n",
      "936.5 900\n",
      "942.5 900\n",
      "950.5 900\n",
      "960.5 900\n",
      "960.5 900\n",
      "942.5 900\n",
      "926.5 900\n",
      "912.5 900\n",
      "900.5 900\n",
      "900.5 900\n",
      "912.5 900\n",
      "926.5 900\n",
      "942.5 900\n",
      "960.5 900\n",
      "944.5 900\n",
      "922.5 900\n",
      "902.5 900\n",
      "902.5 900\n",
      "922.5 900\n",
      "944.5 900\n",
      "938.5 900\n",
      "912.5 900\n",
      "912.5 900\n",
      "938.5 900\n",
      "942.5 900\n",
      "912.5 900\n",
      "912.5 900\n",
      "942.5 900\n",
      "956.5 900\n",
      "922.5 900\n",
      "922.5 900\n",
      "956.5 900\n",
      "942.5 900\n",
      "906.5 900\n",
      "906.5 900\n",
      "942.5 900\n",
      "932.5 900\n",
      "932.5 900\n",
      "926.5 900\n",
      "926.5 900\n",
      "924.5 900\n",
      "924.5 900\n",
      "926.5 900\n",
      "926.5 900\n",
      "932.5 900\n",
      "932.5 900\n",
      "942.5 900\n",
      "942.5 900\n",
      "956.5 900\n",
      "906.5 900\n",
      "906.5 900\n",
      "956.5 900\n",
      "922.5 900\n",
      "922.5 900\n",
      "942.5 900\n",
      "942.5 900\n",
      "912.5 900\n",
      "912.5 900\n",
      "938.5 900\n",
      "938.5 900\n",
      "912.5 900\n",
      "912.5 900\n",
      "944.5 900\n",
      "944.5 900\n",
      "922.5 900\n",
      "922.5 900\n",
      "960.5 900\n",
      "902.5 900\n",
      "902.5 900\n",
      "960.5 900\n",
      "942.5 900\n",
      "942.5 900\n",
      "926.5 900\n",
      "926.5 900\n",
      "912.5 900\n",
      "912.5 900\n",
      "960.5 900\n",
      "900.5 900\n",
      "900.5 900\n",
      "960.5 900\n",
      "950.5 900\n",
      "950.5 900\n",
      "942.5 900\n",
      "942.5 900\n",
      "936.5 900\n",
      "936.5 900\n",
      "932.5 900\n",
      "932.5 900\n",
      "930.5 900\n",
      "930.5 900\n",
      "930.5 900\n",
      "930.5 900\n",
      "932.5 900\n",
      "932.5 900\n",
      "936.5 900\n",
      "936.5 900\n",
      "942.5 900\n",
      "942.5 900\n",
      "950.5 900\n",
      "950.5 900\n",
      "960.5 900\n",
      "900.5 900\n",
      "900.5 900\n",
      "960.5 900\n",
      "912.5 900\n",
      "912.5 900\n",
      "926.5 900\n",
      "926.5 900\n",
      "942.5 900\n",
      "942.5 900\n",
      "960.5 900\n",
      "902.5 900\n",
      "902.5 900\n",
      "960.5 900\n",
      "922.5 900\n",
      "922.5 900\n",
      "944.5 900\n",
      "944.5 900\n",
      "912.5 900\n",
      "912.5 900\n",
      "938.5 900\n",
      "938.5 900\n",
      "912.5 900\n",
      "912.5 900\n",
      "942.5 900\n",
      "942.5 900\n",
      "922.5 900\n",
      "922.5 900\n",
      "956.5 900\n",
      "906.5 900\n",
      "906.5 900\n",
      "956.5 900\n",
      "942.5 900\n",
      "942.5 900\n",
      "932.5 900\n",
      "932.5 900\n",
      "926.5 900\n",
      "926.5 900\n",
      "924.5 900\n",
      "924.5 900\n",
      "926.5 900\n",
      "926.5 900\n",
      "932.5 900\n",
      "932.5 900\n",
      "942.5 900\n",
      "906.5 900\n",
      "906.5 900\n",
      "942.5 900\n",
      "956.5 900\n",
      "922.5 900\n",
      "922.5 900\n",
      "956.5 900\n",
      "942.5 900\n",
      "912.5 900\n",
      "912.5 900\n",
      "942.5 900\n",
      "938.5 900\n",
      "912.5 900\n",
      "912.5 900\n",
      "938.5 900\n",
      "944.5 900\n",
      "922.5 900\n",
      "902.5 900\n",
      "902.5 900\n",
      "922.5 900\n",
      "944.5 900\n",
      "960.5 900\n",
      "942.5 900\n",
      "926.5 900\n",
      "912.5 900\n",
      "900.5 900\n",
      "900.5 900\n",
      "912.5 900\n",
      "926.5 900\n",
      "942.5 900\n",
      "960.5 900\n",
      "960.5 900\n",
      "950.5 900\n",
      "942.5 900\n",
      "936.5 900\n",
      "932.5 900\n",
      "930.5 900\n",
      "930.5 900\n",
      "932.5 900\n",
      "936.5 900\n",
      "942.5 900\n",
      "950.5 900\n",
      "960.5 900\n"
     ]
    },
    {
     "data": {
      "text/plain": [
       "<matplotlib.image.AxesImage at 0x1775f8c20>"
      ]
     },
     "execution_count": 8,
     "metadata": {},
     "output_type": "execute_result"
    }
   ],
   "source": [
    "\n",
    "args = dict(\n",
    "     shape=(51, 51),\n",
    "     dims=(2, 5),\n",
    "     ex_wavelen=488,\n",
    "     em_wavelen=520,\n",
    "     num_aperture=1.2,\n",
    "     refr_index=1.333,\n",
    "     pinhole_radius=0.5,\n",
    "     pinhole_shape='round',\n",
    " )\n",
    "# obsvol = psf.PSF(**args)\n",
    "# obsvol.sigma.ou\n",
    "obsvol = psf.PSF( psf.ISOTROPIC|psf.EMISSION, **args)\n",
    "# plt.close(fig)\n",
    "psfunc = (psf.mirror_symmetry(obsvol.data))\n",
    "x0,y0=len(psfunc)/2,len(psfunc)/2\n",
    "def potential(x,y,r):\n",
    "    r_sq = ((x-x0)**2+(y-y0)**2)\n",
    "    cond = r_sq > r**2 and r_sq <= (r+1)**2\n",
    "    if cond:\n",
    "        print(r_sq,r**2)\n",
    "    return 1 if cond else 0\n",
    "obj = np.zeros_like(psfunc)\n",
    "for (i,j),val in np.ndenumerate(obj):\n",
    "    obj[i,j] = potential(i,j,30)\n",
    "plt.imshow(obj)\n"
   ]
  },
  {
   "cell_type": "code",
   "execution_count": null,
   "metadata": {},
   "outputs": [
    {
     "name": "stderr",
     "output_type": "stream",
     "text": [
      "/var/folders/39/51hl1qv962dgjs7r9mznnsxm0000gp/T/ipykernel_66614/2542102357.py:3: RuntimeWarning: invalid value encountered in log\n",
      "  plt.imshow((convolve2d(obj,np.log(psfunc),mode=\"same\")))\n"
     ]
    }
   ],
   "source": [
    "fig =  plt.figure()\n",
    "# plt.clf()\n",
    "plt.imshow((convolve2d(obj,np.log(psfunc),mode=\"same\")))\n",
    "plt.show()"
   ]
  },
  {
   "cell_type": "code",
   "execution_count": null,
   "metadata": {},
   "outputs": [
    {
     "data": {
      "text/plain": [
       "1.4692038540816528e-05"
      ]
     },
     "execution_count": 82,
     "metadata": {},
     "output_type": "execute_result"
    }
   ],
   "source": [
    "np.min(psfunc)"
   ]
  },
  {
   "cell_type": "code",
   "execution_count": null,
   "metadata": {},
   "outputs": [],
   "source": []
  }
 ],
 "metadata": {
  "kernelspec": {
   "display_name": "base",
   "language": "python",
   "name": "python3"
  },
  "language_info": {
   "codemirror_mode": {
    "name": "ipython",
    "version": 3
   },
   "file_extension": ".py",
   "mimetype": "text/x-python",
   "name": "python",
   "nbconvert_exporter": "python",
   "pygments_lexer": "ipython3",
   "version": "3.12.7"
  }
 },
 "nbformat": 4,
 "nbformat_minor": 2
}
