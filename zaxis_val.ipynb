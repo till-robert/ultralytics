{
 "cells": [
  {
   "cell_type": "code",
   "execution_count": 67,
   "metadata": {},
   "outputs": [],
   "source": [
    "import matplotlib.pyplot as plt\n",
    "import numpy as np\n",
    "%matplotlib widget\n",
    "from scipy.stats import binned_statistic,gaussian_kde\n",
    "import seaborn"
   ]
  },
  {
   "cell_type": "code",
   "execution_count": 1,
   "metadata": {},
   "outputs": [
    {
     "name": "stdout",
     "output_type": "stream",
     "text": [
      "loaded\n",
      "Ultralytics 8.3.27 🚀 Python-3.12.6 torch-2.5.1+cu124 CUDA:0 (NVIDIA GeForce RTX 4090, 24202MiB)\n",
      "YOLO11n-zaxis summary (fused): 257 layers, 2,653,918 parameters, 0 gradients\n"
     ]
    },
    {
     "name": "stderr",
     "output_type": "stream",
     "text": [
      "\u001b[34m\u001b[1mval: \u001b[0mScanning /home/jupyter-till/git/ultralytics/data_gen/Dataset/labels/val.cache... 5000 images, 0 backgrounds, 0 corrupt: 100%|██████████| 5000/5000 [00:00<?, ?it/s]\n",
      "                 Class     Images  Instances      Box(P          R      mAP50  mAP50-95) Z-axis MSE  Z-axis R2: 100%|██████████| 313/313 [00:09<00:00, 33.78it/s]\n"
     ]
    },
    {
     "name": "stdout",
     "output_type": "stream",
     "text": [
      "                   all       5000      50000      0.966      0.974      0.993       0.99   0.000557      0.999\n",
      "Speed: 0.1ms preprocess, 0.3ms inference, 0.0ms loss, 0.2ms postprocess per image\n",
      "Results saved to \u001b[1m/home/jupyter-till/git/ultralytics/runs/zaxis/val59\u001b[0m\n",
      "test\n"
     ]
    }
   ],
   "source": [
    "import ultralytics\n",
    "model = ultralytics.YOLO(\"runs/zaxis/train63/weights/best.pt\")\n",
    "# print(model.model.model)\n",
    "print(\"loaded\")\n",
    "# results = model.train(data=\"data_gen/data.yaml\", epochs=100, imgsz=512,)\n",
    "results = model.val(save=False,z_corr=False)\n",
    "\n",
    "print(\"test\")"
   ]
  },
  {
   "cell_type": "code",
   "execution_count": 116,
   "metadata": {},
   "outputs": [
    {
     "data": {
      "text/plain": [
       "array([    0.37077,    0.083599,     0.53031, ...,     0.43204,     0.53287,     0.87109], dtype=float32)"
      ]
     },
     "execution_count": 116,
     "metadata": {},
     "output_type": "execute_result"
    }
   ],
   "source": [
    "results.z_pairs[0][0]"
   ]
  },
  {
   "cell_type": "code",
   "execution_count": 2,
   "metadata": {},
   "outputs": [
    {
     "ename": "NameError",
     "evalue": "name 'plt' is not defined",
     "output_type": "error",
     "traceback": [
      "\u001b[0;31m---------------------------------------------------------------------------\u001b[0m",
      "\u001b[0;31mNameError\u001b[0m                                 Traceback (most recent call last)",
      "Cell \u001b[0;32mIn[2], line 1\u001b[0m\n\u001b[0;32m----> 1\u001b[0m \u001b[38;5;28;01mif\u001b[39;00m(plt\u001b[38;5;241m.\u001b[39mget_fignums()): plt\u001b[38;5;241m.\u001b[39mclf()\n\u001b[1;32m      2\u001b[0m iou_level\u001b[38;5;241m=\u001b[39m\u001b[38;5;241m5\u001b[39m\n\u001b[1;32m      3\u001b[0m bins\u001b[38;5;241m=\u001b[39m\u001b[38;5;241m30\u001b[39m\n",
      "\u001b[0;31mNameError\u001b[0m: name 'plt' is not defined"
     ]
    }
   ],
   "source": [
    "if(plt.get_fignums()): plt.clf()\n",
    "iou_level=5\n",
    "bins=30\n",
    "means = np.histogram(results.z_pairs[iou_level][0],weights=np.abs(results.z_pairs[iou_level][0]-results.z_pairs[iou_level][1]),bins=bins,density=False)[0]\n",
    "hist = np.histogram(results.z_pairs[iou_level][0],bins=bins,density=False)[0]\n",
    "x1 = np.linspace(0,1,bins)\n",
    "plt.plot(x1,means/hist)\n",
    "plt.axvline(761/1568,c=\"k\",ls=\"--\",label=\"focus\")\n",
    "plt.legend()\n",
    "plt.ylabel(r\"$\\langle|z_{\\mathrm{true}}-z_{\\mathrm{pred}}|\\rangle$\")\n",
    "plt.xlabel(\"z\")\n",
    "plt.show()\n"
   ]
  },
  {
   "cell_type": "code",
   "execution_count": null,
   "metadata": {},
   "outputs": [],
   "source": []
  },
  {
   "cell_type": "code",
   "execution_count": 26,
   "metadata": {},
   "outputs": [
    {
     "data": {
      "text/plain": [
       "(49742,)"
      ]
     },
     "execution_count": 26,
     "metadata": {},
     "output_type": "execute_result"
    }
   ],
   "source": [
    "np.abs(np.diff(results.z_pairs[0],axis=0))[0].shape"
   ]
  },
  {
   "cell_type": "code",
   "execution_count": null,
   "metadata": {},
   "outputs": [],
   "source": []
  }
 ],
 "metadata": {
  "kernelspec": {
   "display_name": "base",
   "language": "python",
   "name": "python3"
  },
  "language_info": {
   "codemirror_mode": {
    "name": "ipython",
    "version": 3
   },
   "file_extension": ".py",
   "mimetype": "text/x-python",
   "name": "python",
   "nbconvert_exporter": "python",
   "pygments_lexer": "ipython3",
   "version": "3.12.6"
  }
 },
 "nbformat": 4,
 "nbformat_minor": 4
}
